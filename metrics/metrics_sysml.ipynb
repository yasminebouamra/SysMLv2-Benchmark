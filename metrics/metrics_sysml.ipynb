{
 "cells": [
  {
   "cell_type": "code",
   "execution_count": 1,
   "metadata": {},
   "outputs": [],
   "source": [
    "import sys"
   ]
  },
  {
   "cell_type": "code",
   "execution_count": 2,
   "metadata": {},
   "outputs": [],
   "source": [
    "sys.path.insert(0,'C:/Users/z004x5km/OneDrive - Siemens AG/Desktop/Ressources ext/SysMLv2RepositoryClient/lib/python')"
   ]
  },
  {
   "cell_type": "code",
   "execution_count": 3,
   "metadata": {},
   "outputs": [],
   "source": [
    "def syslmv2_syntax_checker_function(sysmlv2_textual_code: str):\n",
    "    from dist import com_siemens_advsol_sysml_common_parser_SiemensParser as SiemensParser\n",
    "    from dist import com_siemens_advsol_sysml_common_parser_Content as Content\n",
    "    from dist import com_siemens_advsol_sysml_client_impl_SysMLv2RepositoryImpl as SysMLv2RepositoryImpl\n",
    "    from dist import com_siemens_advsol_sysml_common_scope_impl_ProjectScopeBuilder as ProjectScopeBuilder\n",
    "    from dist import com_siemens_advsol_sysml_common_util_Util as Util\n",
    "    from dist import com_siemens_advsol_sysml_common_lang_DerivedPropertyHelper as DerivedPropertyHelper\n",
    "    from dist import com_siemens_advsol_sysml_common_util_serialization_BaseSerialization as BaseSerialization\n",
    "    from dist import com_siemens_advsol_sysml_common_util_Util as Util\n",
    "\n",
    "    import re\n",
    "    text_file = open(\"Example.sysml\", \"w\")\n",
    "    text_file.write(sysmlv2_textual_code)\n",
    "    text_file.close()\n",
    "    content = Content.withText(\"input.sysml\", sysmlv2_textual_code)\n",
    "    # content = Content.withStream(\"Example.sysml\", File.read(\"Example.sysml\"))\n",
    "    #content = Content.withStream(\"Example.sysml\", \"package { hello }\")\n",
    "    parser = SiemensParser();\n",
    "\n",
    "    # parser = RefImplParser()\n",
    "    result = parser.toJsonString([content])\n",
    " \n",
    "    raw = parser.getLastLogData().stdout()\n",
    "    x = re.findall(\"ERROR:(.*?)(?=\\n|$)\", str(raw))\n",
    " \n",
    "    if not x:\n",
    "        output = \"the SysML V2 code contains no error\"\n",
    "    else:\n",
    "        output =\"Your code contains error:\\n\"\n",
    "        for error in x:\n",
    "            output = output + error.replace(\"Example.sysml\",\"\") + \"\\n\"\n",
    "    return(output)"
   ]
  },
  {
   "cell_type": "code",
   "execution_count": 4,
   "metadata": {},
   "outputs": [],
   "source": [
    "text = \"\"\"part system_of_systems:SysLocalCloudsDD;\n",
    "\n",
    "part def LocalCloudDesign {\n",
    "    doc /* Local Cloud definition */\n",
    "\n",
    "    part systems:SysD[1..*];\n",
    "}\n",
    "\n",
    "part def SysD {\n",
    "    doc /* System definitions */\n",
    "\n",
    "    port services: SD[1..*];\n",
    "    attribute systemname: String;\n",
    "    attribute address: String;\n",
    "    attribute portno: Integer;\n",
    "}\n",
    "\n",
    "port def IDD :> SD{\n",
    "    doc /* Interface Design Description of services */\n",
    "\n",
    "    attribute encoding_kind:String;\n",
    "}\n",
    "\n",
    "port def SDDD :> SD{\n",
    "    doc /* Service Definition Design Description */\n",
    "\n",
    "    port idds:IDD[*];\n",
    "}\n",
    "\n",
    "part def SysLocalCloudsDD :> SysLocalCloudsDesign {\n",
    "    doc /* System of Systems Detailed Description */\n",
    "\n",
    "    part :>> locclouds:LocalCloudDD[1..*];\n",
    "}\n",
    "\n",
    "part def LocalCloudDD :> LocalCloudDesign {\n",
    "    part :>> systems:SysDD[1..*];\n",
    "}\n",
    "\n",
    "part def SysDD :> SysD{\n",
    "    doc /* System Detailed Description */\n",
    "\n",
    "    port :>> services:SDDD;\n",
    "    action ServiceMethod[1..*];\n",
    "}\n",
    "\n",
    "event def TellUConsumerRequest{data:String};\n",
    "\n",
    "event def APISProducerResponse{data:String};\n",
    "\n",
    "message def MQTTMessage{data:String};\n",
    "\n",
    "sequenceDiagram def SequenceDiagram1 {\n",
    "    participant TellUConsumer;\n",
    "    participant APISProducer;\n",
    "    participant MQTTServer;\n",
    "    participant APISConsumer;\n",
    "\n",
    "    TellUConsumer->>TellUConsumerRequest;\n",
    "    activate TellUConsumer;\n",
    "    TellUConsumer->>MQTTServer!MQTTMessage(data: tellUConsumerRequest.data);\n",
    "\n",
    "    activate MQTTServer;\n",
    "    MQTTServer->>MQTTMessage(data: tellUConsumerRequest.data);\n",
    "\n",
    "    deactivate MQTTServer;\n",
    "    activate APISProducer;\n",
    "    MQTTServer->>APISProducerResponse;\n",
    "    APISProducer->>APISPProducerResponse;\n",
    "\n",
    "    deactivate APISProducer;\n",
    "    activate APISConsumer;\n",
    "    APISConsumer->>MQTTServer!MQTTMessage(data: APISProducerResponse.data);\n",
    "\n",
    "    deactivate MQTTServer;\n",
    "    deactivate TellUConsumer;\n",
    "}\"\"\""
   ]
  },
  {
   "cell_type": "code",
   "execution_count": 5,
   "metadata": {},
   "outputs": [
    {
     "ename": "AttributeError",
     "evalue": "'com_siemens_advsol_sysml_common_parser_SiemensParser' object has no attribute 'toJsonString'",
     "output_type": "error",
     "traceback": [
      "\u001b[1;31m---------------------------------------------------------------------------\u001b[0m",
      "\u001b[1;31mAttributeError\u001b[0m                            Traceback (most recent call last)",
      "Cell \u001b[1;32mIn[5], line 1\u001b[0m\n\u001b[1;32m----> 1\u001b[0m \u001b[43msyslmv2_syntax_checker_function\u001b[49m\u001b[43m(\u001b[49m\u001b[43mtext\u001b[49m\u001b[43m)\u001b[49m\n",
      "Cell \u001b[1;32mIn[3], line 21\u001b[0m, in \u001b[0;36msyslmv2_syntax_checker_function\u001b[1;34m(sysmlv2_textual_code)\u001b[0m\n\u001b[0;32m     18\u001b[0m parser \u001b[38;5;241m=\u001b[39m SiemensParser();\n\u001b[0;32m     20\u001b[0m \u001b[38;5;66;03m# parser = RefImplParser()\u001b[39;00m\n\u001b[1;32m---> 21\u001b[0m result \u001b[38;5;241m=\u001b[39m \u001b[43mparser\u001b[49m\u001b[38;5;241;43m.\u001b[39;49m\u001b[43mtoJsonString\u001b[49m([content])\n\u001b[0;32m     23\u001b[0m raw \u001b[38;5;241m=\u001b[39m parser\u001b[38;5;241m.\u001b[39mgetLastLogData()\u001b[38;5;241m.\u001b[39mstdout()\n\u001b[0;32m     24\u001b[0m x \u001b[38;5;241m=\u001b[39m re\u001b[38;5;241m.\u001b[39mfindall(\u001b[38;5;124m\"\u001b[39m\u001b[38;5;124mERROR:(.*?)(?=\u001b[39m\u001b[38;5;130;01m\\n\u001b[39;00m\u001b[38;5;124m|$)\u001b[39m\u001b[38;5;124m\"\u001b[39m, \u001b[38;5;28mstr\u001b[39m(raw))\n",
      "\u001b[1;31mAttributeError\u001b[0m: 'com_siemens_advsol_sysml_common_parser_SiemensParser' object has no attribute 'toJsonString'"
     ]
    }
   ],
   "source": [
    "syslmv2_syntax_checker_function(text)"
   ]
  }
 ],
 "metadata": {
  "kernelspec": {
   "display_name": "prompting_playground",
   "language": "python",
   "name": "python3"
  },
  "language_info": {
   "codemirror_mode": {
    "name": "ipython",
    "version": 3
   },
   "file_extension": ".py",
   "mimetype": "text/x-python",
   "name": "python",
   "nbconvert_exporter": "python",
   "pygments_lexer": "ipython3",
   "version": "3.12.0"
  }
 },
 "nbformat": 4,
 "nbformat_minor": 2
}
